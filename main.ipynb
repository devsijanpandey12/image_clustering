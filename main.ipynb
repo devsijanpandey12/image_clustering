{
 "cells": [
  {
   "cell_type": "code",
   "execution_count": 105,
   "metadata": {},
   "outputs": [],
   "source": [
    "import face_recognition\n",
    "import cv2\n",
    "from uuid import  uuid4\n",
    "import re\n",
    "import numpy as np\n",
    "from tqdm import  tqdm\n",
    "import os"
   ]
  },
  {
   "cell_type": "code",
   "execution_count": 106,
   "metadata": {},
   "outputs": [],
   "source": [
    "def faces(path):\n",
    "    # load the file \n",
    "    image = face_recognition.load_image_file(path)\n",
    "    #resize \n",
    "    # image = cv2.resize(image)\n",
    "    # recognize the face locations \n",
    "    face_locations = face_recognition.face_locations(image)\n",
    "    if len(face_locations)==0:\n",
    "        return None,None\n",
    "    # extract the faces \n",
    "    faces = []\n",
    "    for location in face_locations:\n",
    "        top, right, bottom, left = location\n",
    "        face = image[top:bottom, left:right]\n",
    "        faces.append(face)\n",
    "\n",
    "    return faces,face_locations\n"
   ]
  },
  {
   "cell_type": "code",
   "execution_count": 107,
   "metadata": {},
   "outputs": [],
   "source": [
    "def get_counter(dir=\"output\"):\n",
    "    createDir_if_not_exists(dir)\n",
    "    files = os.listdir(dir)\n",
    "    \n",
    "    if len(files) == 0:\n",
    "        return 1  # If no files, start with person1\n",
    "    \n",
    "    # Regular expression to match 'person' followed by an integer (e.g., person1, person12, etc.)\n",
    "    pattern = re.compile(r\"person(\\d+)\")\n",
    "    \n",
    "    max_number = 0\n",
    "    \n",
    "    for file in files:\n",
    "        match = pattern.match(file)\n",
    "        if match:\n",
    "            # Extract the number from the file name\n",
    "            number = int(match.group(1))\n",
    "            max_number = max(max_number, number)\n",
    "    \n",
    "    # Return the next counter\n",
    "    return max_number + 1\n",
    "person_count = get_counter()"
   ]
  },
  {
   "cell_type": "code",
   "execution_count": 108,
   "metadata": {},
   "outputs": [],
   "source": [
    "def save(face,filepath,resize=None):\n",
    "    # resize the image \n",
    "    if not resize is None:\n",
    "        if isinstance(resize,tuple):\n",
    "            face=cv2.resize(face, dsize=resize,)\n",
    "        if isinstance(resize,int):\n",
    "            face=cv2.resize(face,dsize=(resize,resize))\n",
    "    cv2.imwrite(filepath,face)\n",
    "    return"
   ]
  },
  {
   "cell_type": "code",
   "execution_count": 109,
   "metadata": {},
   "outputs": [],
   "source": [
    "def generate_filepath(extension='jpg'):\n",
    "    file_name = str(uuid4())\n",
    "    if re.findall(r'\\.',extension):\n",
    "        file_name = file_name+extension\n",
    "    else:\n",
    "        file_name = f\"{file_name}.{extension}\"\n",
    "    return file_name\n"
   ]
  },
  {
   "cell_type": "code",
   "execution_count": 110,
   "metadata": {},
   "outputs": [],
   "source": [
    "def createDir_if_not_exists(dir):\n",
    "    import os \n",
    "    # check the directory is exists or not\n",
    "    if not os.path.exists(dir):\n",
    "        os.mkdir(path=dir)\n",
    "    return "
   ]
  },
  {
   "cell_type": "code",
   "execution_count": 111,
   "metadata": {},
   "outputs": [],
   "source": [
    "import numpy as np\n",
    "\n",
    "def getEmbedding(face):\n",
    "    # Convert to RGB as face_recognition expects the image in RGB\n",
    "    convert_color = cv2.cvtColor(face, cv2.COLOR_BGR2RGB)\n",
    "    \n",
    "    # Get the face encoding (embedding)\n",
    "    embedding = face_recognition.face_encodings(convert_color)\n",
    "    \n",
    "    if len(embedding) == 0:\n",
    "        return None\n",
    "    \n",
    "    return embedding[0]"
   ]
  },
  {
   "cell_type": "code",
   "execution_count": 112,
   "metadata": {},
   "outputs": [],
   "source": [
    "def save_face(face=None,dir='default',base='output'):\n",
    "    base = 'output'\n",
    "    createDir_if_not_exists(base)\n",
    "    createDir_if_not_exists(f\"{base}/{dir}\")\n",
    "    # check the faces is avalilable or not \n",
    "    if faces is None:\n",
    "        return\n",
    "    filename = f\"output/{dir}/{generate_filepath()}\"\n",
    "    # convert the image into RGB to BGR \n",
    "    face = cv2.cvtColor(face,cv2.COLOR_RGB2BGR)\n",
    "    # save the file\n",
    "    save(face,filename,resize=(64,64))\n",
    "    print(\"Face saved\")\n",
    "    return"
   ]
  },
  {
   "cell_type": "code",
   "execution_count": 113,
   "metadata": {},
   "outputs": [],
   "source": [
    "from qdrant_client import QdrantClient,models\n",
    "from qdrant_client.models import NamedVector,VectorParams,Distance,PointStruct\n",
    "threshold = 0.93\n",
    "def connect_qdrant():\n",
    "    # Create a QdrantClient instance, specifying the host and port\n",
    "    client = QdrantClient(host='localhost', port=6333)  # Adjust host and port as needed\n",
    "    return client\n",
    "client = connect_qdrant()\n"
   ]
  },
  {
   "cell_type": "code",
   "execution_count": 114,
   "metadata": {},
   "outputs": [],
   "source": [
    "def create_collection_if_not_exists(collection_name=\"faces\", vector_size=128,):\n",
    "    # Check if the collection already exists\n",
    "    collections = client.get_collections()\n",
    "\n",
    "    # If the collection does not exist, create it\n",
    "    if collection_name not in [col.name for col in collections.collections]:\n",
    "        print(f\"Collection '{collection_name}' does not exist. Creating a new one.\")\n",
    "        \n",
    "        # Create the collection\n",
    "        client.create_collection(\n",
    "            collection_name=collection_name,\n",
    "            vectors_config=models.VectorParams(size=vector_size, distance=models.Distance.COSINE),\n",
    "        )\n",
    "\n",
    "        print(f\"Collection '{collection_name}' created successfully.\")\n",
    "    else:\n",
    "        print(f\"Collection '{collection_name}' already exists.\")"
   ]
  },
  {
   "cell_type": "code",
   "execution_count": 115,
   "metadata": {},
   "outputs": [
    {
     "name": "stdout",
     "output_type": "stream",
     "text": [
      "Collection 'faces' already exists.\n"
     ]
    }
   ],
   "source": [
    "create_collection_if_not_exists()"
   ]
  },
  {
   "cell_type": "code",
   "execution_count": 116,
   "metadata": {},
   "outputs": [],
   "source": [
    "def compare_embedding(embedding,collection_name=\"faces\",top_k=1):\n",
    "    results = client.search(\n",
    "        collection_name=collection_name,      # Collection to search in\n",
    "        query_vector=embedding,                # The embedding you want to compare\n",
    "        limit=top_k,                           # Number of nearest neighbors to return\n",
    "    )\n",
    "    # Return the search results\n",
    "    return results\n",
    "\n",
    "# add the new embedding \n",
    "def add_data(embedding,collection_name=\"faces\",name=\"default\"):\n",
    "    point_id = str(uuid4())  # Replace with actual logic to generate a unique ID, like using a counter or UUID.\n",
    "    # Create a PointStruct with embedding and metadata\n",
    "    point = PointStruct(id=point_id, vector=embedding, payload={\"name\": name})\n",
    "    # Add the new point to the collection\n",
    "    client.upsert(collection_name=collection_name, points=[point])\n",
    "    print(\"Added\")    "
   ]
  },
  {
   "cell_type": "code",
   "execution_count": 117,
   "metadata": {},
   "outputs": [],
   "source": [
    "def handle_new_face(face,dir_name,embedding):\n",
    "    global person_count\n",
    "    dir = f\"{dir_name}{person_count}\"\n",
    "    save_face(face=face,dir=dir)\n",
    "    add_data(embedding=embedding,name=dir)\n",
    "    person_count+=1\n",
    "    return person_count\n"
   ]
  },
  {
   "cell_type": "code",
   "execution_count": 118,
   "metadata": {},
   "outputs": [],
   "source": [
    "dir_name = \"person\"\n",
    "\n",
    "def process_faces(face_locations,faces=None,):\n",
    "    if faces is None:\n",
    "        print(\"No faces\")\n",
    "        return\n",
    "    \n",
    "    for face in tqdm(faces,desc=\"Processing face\"):\n",
    "        embedding = getEmbedding(face)\n",
    "        if embedding is None:\n",
    "            continue\n",
    "        compare_result = compare_embedding(embedding)\n",
    "        if len(compare_result)==0:\n",
    "            handle_new_face(face,dir_name,embedding=embedding)\n",
    "            # add new data \n",
    "            continue\n",
    "        # get the name and score \n",
    "        score = compare_result[0].score  \n",
    "        print(f\"Score:{score}\")\n",
    "        name = compare_result[0].payload[\"name\"] \n",
    "        if score>threshold:\n",
    "            #add save the image file in the name directory\n",
    "            save_face(face,dir=name)\n",
    "        else:\n",
    "            handle_new_face(face,dir_name,embedding=embedding)\n",
    "            \n",
    "        embedding=None\n"
   ]
  },
  {
   "cell_type": "code",
   "execution_count": 119,
   "metadata": {},
   "outputs": [],
   "source": [
    "def read_all_files_in_directory(dir=\"input\"):\n",
    "    all_files = []\n",
    "    \n",
    "    # Walk through the directory and its subdirectories\n",
    "    for root, dirs, files in os.walk(dir):\n",
    "        for file in files:\n",
    "            all_files.append(os.path.join(root, file))  # Add full file path\n",
    "    \n",
    "    return all_files"
   ]
  },
  {
   "cell_type": "code",
   "execution_count": 120,
   "metadata": {},
   "outputs": [],
   "source": [
    "def process(paths):\n",
    "    for path in tqdm(paths,\"Processing file\"):\n",
    "        faces_roi,locations = faces(path)\n",
    "        if faces_roi is None or  len(faces_roi)==0:\n",
    "            continue\n",
    "        process_faces(face_locations=locations,faces=faces_roi)\n",
    "        "
   ]
  },
  {
   "cell_type": "code",
   "execution_count": 121,
   "metadata": {},
   "outputs": [],
   "source": [
    "paths = read_all_files_in_directory()"
   ]
  },
  {
   "cell_type": "code",
   "execution_count": null,
   "metadata": {},
   "outputs": [
    {
     "name": "stderr",
     "output_type": "stream",
     "text": [
      "Processing file:   0%|          | 0/1312 [00:00<?, ?it/s]"
     ]
    },
    {
     "name": "stdout",
     "output_type": "stream",
     "text": [
      "Face saved\n",
      "Added\n"
     ]
    },
    {
     "name": "stderr",
     "output_type": "stream",
     "text": []
    },
    {
     "name": "stdout",
     "output_type": "stream",
     "text": [
      "Score:0.83515614\n",
      "Face saved\n",
      "Added\n"
     ]
    },
    {
     "name": "stderr",
     "output_type": "stream",
     "text": [
      "Processing face: 100%|██████████| 4/4 [00:01<00:00,  3.83it/s]\n",
      "Processing file:   0%|          | 1/1312 [00:14<5:23:00, 14.78s/it]"
     ]
    },
    {
     "name": "stdout",
     "output_type": "stream",
     "text": [
      "Score:0.8986392\n",
      "Face saved\n",
      "Added\n"
     ]
    },
    {
     "name": "stderr",
     "output_type": "stream",
     "text": []
    },
    {
     "name": "stdout",
     "output_type": "stream",
     "text": [
      "Score:0.9165648\n",
      "Face saved\n",
      "Added\n"
     ]
    },
    {
     "name": "stderr",
     "output_type": "stream",
     "text": [
      "Processing face: 100%|██████████| 3/3 [00:00<00:00,  4.67it/s]\n",
      "Processing file:   0%|          | 2/1312 [00:29<5:15:59, 14.47s/it]"
     ]
    },
    {
     "name": "stdout",
     "output_type": "stream",
     "text": [
      "Score:0.9731412\n",
      "Face saved\n"
     ]
    },
    {
     "name": "stderr",
     "output_type": "stream",
     "text": []
    },
    {
     "name": "stdout",
     "output_type": "stream",
     "text": [
      "Score:0.96456146\n",
      "Face saved\n"
     ]
    },
    {
     "name": "stderr",
     "output_type": "stream",
     "text": []
    },
    {
     "name": "stdout",
     "output_type": "stream",
     "text": [
      "Score:0.9802031\n",
      "Face saved\n"
     ]
    },
    {
     "name": "stderr",
     "output_type": "stream",
     "text": [
      "Processing face: 100%|██████████| 3/3 [00:00<00:00,  3.30it/s]\n",
      "Processing file:   0%|          | 3/1312 [00:43<5:15:02, 14.44s/it]"
     ]
    },
    {
     "name": "stdout",
     "output_type": "stream",
     "text": [
      "Score:0.9789382\n",
      "Face saved\n"
     ]
    },
    {
     "name": "stderr",
     "output_type": "stream",
     "text": [
      "Processing face: 100%|██████████| 1/1 [00:00<00:00,  8.34it/s]\n",
      "Processing face: 100%|██████████| 3/3 [00:00<00:00,  6.11it/s]s/it]\n",
      "Processing file:   1%|          | 7/1312 [01:37<4:59:14, 13.76s/it]"
     ]
    },
    {
     "name": "stdout",
     "output_type": "stream",
     "text": [
      "Score:0.91123617\n",
      "Face saved\n",
      "Added\n"
     ]
    },
    {
     "name": "stderr",
     "output_type": "stream",
     "text": [
      "Processing face: 100%|██████████| 2/2 [00:00<00:00,  3.15it/s]\n",
      "Processing file:   1%|          | 8/1312 [01:51<5:00:01, 13.80s/it]"
     ]
    },
    {
     "name": "stdout",
     "output_type": "stream",
     "text": [
      "Score:0.9658257\n",
      "Face saved\n"
     ]
    },
    {
     "name": "stderr",
     "output_type": "stream",
     "text": []
    },
    {
     "name": "stdout",
     "output_type": "stream",
     "text": [
      "Score:0.894279\n",
      "Face saved\n",
      "Added\n"
     ]
    },
    {
     "name": "stderr",
     "output_type": "stream",
     "text": [
      "Processing face: 100%|██████████| 4/4 [00:00<00:00,  4.39it/s]\n",
      "Processing file:   1%|          | 9/1312 [02:05<4:59:49, 13.81s/it]"
     ]
    },
    {
     "name": "stdout",
     "output_type": "stream",
     "text": [
      "Score:0.94538856\n",
      "Face saved\n"
     ]
    },
    {
     "name": "stderr",
     "output_type": "stream",
     "text": [
      "Processing face: 100%|██████████| 1/1 [00:00<00:00,  3.31it/s]\n",
      "Processing file:   1%|          | 10/1312 [02:18<4:54:15, 13.56s/it]"
     ]
    },
    {
     "name": "stdout",
     "output_type": "stream",
     "text": [
      "Score:0.9164847\n",
      "Face saved\n",
      "Added\n"
     ]
    },
    {
     "name": "stderr",
     "output_type": "stream",
     "text": [
      "Processing face: 100%|██████████| 2/2 [00:00<00:00, 12.08it/s]\n",
      "Processing face: 100%|██████████| 1/1 [00:00<00:00, 12.61it/s]7s/it]\n",
      "Processing file:   1%|          | 13/1312 [02:56<4:41:50, 13.02s/it]"
     ]
    },
    {
     "name": "stdout",
     "output_type": "stream",
     "text": [
      "Score:0.88732004\n",
      "Face saved\n",
      "Added\n"
     ]
    },
    {
     "name": "stderr",
     "output_type": "stream",
     "text": []
    },
    {
     "name": "stdout",
     "output_type": "stream",
     "text": [
      "Score:0.91986144\n",
      "Face saved\n",
      "Added\n"
     ]
    },
    {
     "name": "stderr",
     "output_type": "stream",
     "text": []
    },
    {
     "name": "stdout",
     "output_type": "stream",
     "text": [
      "Score:0.90654695\n",
      "Face saved\n",
      "Added\n"
     ]
    },
    {
     "name": "stderr",
     "output_type": "stream",
     "text": []
    },
    {
     "name": "stdout",
     "output_type": "stream",
     "text": [
      "Score:0.9320493\n",
      "Face saved\n"
     ]
    },
    {
     "name": "stderr",
     "output_type": "stream",
     "text": []
    },
    {
     "name": "stdout",
     "output_type": "stream",
     "text": [
      "Score:0.9224374\n",
      "Face saved\n",
      "Added\n"
     ]
    },
    {
     "name": "stderr",
     "output_type": "stream",
     "text": []
    },
    {
     "name": "stdout",
     "output_type": "stream",
     "text": [
      "Score:0.9221407\n",
      "Face saved\n",
      "Added\n"
     ]
    },
    {
     "name": "stderr",
     "output_type": "stream",
     "text": []
    },
    {
     "name": "stdout",
     "output_type": "stream",
     "text": [
      "Score:0.9131995\n",
      "Face saved\n",
      "Added\n"
     ]
    },
    {
     "name": "stderr",
     "output_type": "stream",
     "text": []
    },
    {
     "name": "stdout",
     "output_type": "stream",
     "text": [
      "Score:0.92900676\n",
      "Face saved\n",
      "Added\n"
     ]
    },
    {
     "name": "stderr",
     "output_type": "stream",
     "text": []
    },
    {
     "name": "stdout",
     "output_type": "stream",
     "text": [
      "Score:0.924914\n",
      "Face saved\n",
      "Added\n"
     ]
    },
    {
     "name": "stderr",
     "output_type": "stream",
     "text": []
    },
    {
     "name": "stdout",
     "output_type": "stream",
     "text": [
      "Score:0.9263368\n",
      "Face saved\n",
      "Added\n"
     ]
    },
    {
     "name": "stderr",
     "output_type": "stream",
     "text": []
    },
    {
     "name": "stdout",
     "output_type": "stream",
     "text": [
      "Score:0.9250974\n",
      "Face saved\n",
      "Added\n"
     ]
    },
    {
     "name": "stderr",
     "output_type": "stream",
     "text": [
      "Processing face: 100%|██████████| 19/19 [00:03<00:00,  5.56it/s]\n",
      "Processing file:   1%|          | 14/1312 [03:12<5:00:24, 13.89s/it]"
     ]
    },
    {
     "name": "stdout",
     "output_type": "stream",
     "text": [
      "Score:0.9096268\n",
      "Face saved\n",
      "Added\n"
     ]
    },
    {
     "name": "stderr",
     "output_type": "stream",
     "text": []
    },
    {
     "name": "stdout",
     "output_type": "stream",
     "text": [
      "Score:0.92341703\n",
      "Face saved\n",
      "Added\n"
     ]
    },
    {
     "name": "stderr",
     "output_type": "stream",
     "text": [
      "Processing face: 100%|██████████| 3/3 [00:00<00:00,  4.23it/s]\n",
      "Processing face: 100%|██████████| 1/1 [00:00<00:00, 13.46it/s]4s/it]\n",
      "Processing face: 100%|██████████| 1/1 [00:00<00:00, 18.57it/s]1s/it]\n",
      "Processing file:   1%|▏         | 18/1312 [04:05<4:48:54, 13.40s/it]"
     ]
    },
    {
     "name": "stdout",
     "output_type": "stream",
     "text": [
      "Score:0.9016654\n",
      "Face saved\n",
      "Added\n"
     ]
    },
    {
     "name": "stderr",
     "output_type": "stream",
     "text": []
    },
    {
     "name": "stdout",
     "output_type": "stream",
     "text": [
      "Score:0.93050015\n",
      "Face saved\n"
     ]
    },
    {
     "name": "stderr",
     "output_type": "stream",
     "text": []
    },
    {
     "name": "stdout",
     "output_type": "stream",
     "text": [
      "Score:0.91540444\n",
      "Face saved\n",
      "Added\n"
     ]
    },
    {
     "name": "stderr",
     "output_type": "stream",
     "text": []
    },
    {
     "name": "stdout",
     "output_type": "stream",
     "text": [
      "Score:0.88939476\n",
      "Face saved\n",
      "Added\n"
     ]
    },
    {
     "name": "stderr",
     "output_type": "stream",
     "text": []
    },
    {
     "name": "stdout",
     "output_type": "stream",
     "text": [
      "Score:0.93302596\n",
      "Face saved\n"
     ]
    },
    {
     "name": "stderr",
     "output_type": "stream",
     "text": []
    },
    {
     "name": "stdout",
     "output_type": "stream",
     "text": [
      "Score:0.9378251\n",
      "Face saved\n"
     ]
    },
    {
     "name": "stderr",
     "output_type": "stream",
     "text": []
    },
    {
     "name": "stdout",
     "output_type": "stream",
     "text": [
      "Score:0.94794494\n",
      "Face saved\n"
     ]
    },
    {
     "name": "stderr",
     "output_type": "stream",
     "text": []
    },
    {
     "name": "stdout",
     "output_type": "stream",
     "text": [
      "Score:0.9339007\n",
      "Face saved\n"
     ]
    },
    {
     "name": "stderr",
     "output_type": "stream",
     "text": []
    },
    {
     "name": "stdout",
     "output_type": "stream",
     "text": [
      "Score:0.92035973\n",
      "Face saved\n",
      "Added\n"
     ]
    },
    {
     "name": "stderr",
     "output_type": "stream",
     "text": []
    },
    {
     "name": "stdout",
     "output_type": "stream",
     "text": [
      "Score:0.91769373\n",
      "Face saved\n",
      "Added\n"
     ]
    },
    {
     "name": "stderr",
     "output_type": "stream",
     "text": [
      "Processing face: 100%|██████████| 13/13 [00:03<00:00,  4.31it/s]\n",
      "Processing file:   1%|▏         | 19/1312 [04:21<5:06:07, 14.21s/it]"
     ]
    },
    {
     "name": "stdout",
     "output_type": "stream",
     "text": [
      "Score:0.93607247\n",
      "Face saved\n"
     ]
    },
    {
     "name": "stderr",
     "output_type": "stream",
     "text": []
    },
    {
     "name": "stdout",
     "output_type": "stream",
     "text": [
      "Score:0.9558487\n",
      "Face saved\n"
     ]
    },
    {
     "name": "stderr",
     "output_type": "stream",
     "text": []
    },
    {
     "name": "stdout",
     "output_type": "stream",
     "text": [
      "Score:0.9253144\n",
      "Face saved\n",
      "Added\n"
     ]
    },
    {
     "name": "stderr",
     "output_type": "stream",
     "text": []
    },
    {
     "name": "stdout",
     "output_type": "stream",
     "text": [
      "Score:0.9309719\n",
      "Face saved\n"
     ]
    },
    {
     "name": "stderr",
     "output_type": "stream",
     "text": []
    },
    {
     "name": "stdout",
     "output_type": "stream",
     "text": [
      "Score:0.922946\n",
      "Face saved\n",
      "Added\n"
     ]
    },
    {
     "name": "stderr",
     "output_type": "stream",
     "text": []
    },
    {
     "name": "stdout",
     "output_type": "stream",
     "text": [
      "Score:0.9186634\n",
      "Face saved\n",
      "Added\n"
     ]
    },
    {
     "name": "stderr",
     "output_type": "stream",
     "text": []
    },
    {
     "name": "stdout",
     "output_type": "stream",
     "text": [
      "Score:0.9538295\n",
      "Face saved\n"
     ]
    },
    {
     "name": "stderr",
     "output_type": "stream",
     "text": []
    },
    {
     "name": "stdout",
     "output_type": "stream",
     "text": [
      "Score:0.90956753\n",
      "Face saved\n",
      "Added\n"
     ]
    },
    {
     "name": "stderr",
     "output_type": "stream",
     "text": []
    },
    {
     "name": "stdout",
     "output_type": "stream",
     "text": [
      "Score:0.9100017\n",
      "Face saved\n",
      "Added\n"
     ]
    },
    {
     "name": "stderr",
     "output_type": "stream",
     "text": []
    },
    {
     "name": "stdout",
     "output_type": "stream",
     "text": [
      "Score:0.91196114\n",
      "Face saved\n",
      "Added\n"
     ]
    },
    {
     "name": "stderr",
     "output_type": "stream",
     "text": [
      "Processing face: 100%|██████████| 16/16 [00:02<00:00,  5.59it/s]\n",
      "Processing file:   2%|▏         | 20/1312 [04:38<5:18:56, 14.81s/it]"
     ]
    },
    {
     "name": "stdout",
     "output_type": "stream",
     "text": [
      "Score:0.91170096\n",
      "Face saved\n",
      "Added\n"
     ]
    },
    {
     "name": "stderr",
     "output_type": "stream",
     "text": []
    },
    {
     "name": "stdout",
     "output_type": "stream",
     "text": [
      "Score:0.91256696\n",
      "Face saved\n",
      "Added\n"
     ]
    },
    {
     "name": "stderr",
     "output_type": "stream",
     "text": []
    },
    {
     "name": "stdout",
     "output_type": "stream",
     "text": [
      "Score:0.93489075\n",
      "Face saved\n"
     ]
    },
    {
     "name": "stderr",
     "output_type": "stream",
     "text": []
    },
    {
     "name": "stdout",
     "output_type": "stream",
     "text": [
      "Score:0.9101511\n",
      "Face saved\n",
      "Added\n"
     ]
    },
    {
     "name": "stderr",
     "output_type": "stream",
     "text": []
    },
    {
     "name": "stdout",
     "output_type": "stream",
     "text": [
      "Score:0.92779243\n",
      "Face saved\n",
      "Added\n"
     ]
    },
    {
     "name": "stderr",
     "output_type": "stream",
     "text": []
    },
    {
     "name": "stdout",
     "output_type": "stream",
     "text": [
      "Score:0.9222258\n",
      "Face saved\n",
      "Added\n"
     ]
    },
    {
     "name": "stderr",
     "output_type": "stream",
     "text": [
      "Processing face: 100%|██████████| 9/9 [00:02<00:00,  4.32it/s]\n",
      "Processing file:   2%|▏         | 21/1312 [04:53<5:22:12, 14.98s/it]"
     ]
    },
    {
     "name": "stdout",
     "output_type": "stream",
     "text": [
      "Score:0.9138706\n",
      "Face saved\n",
      "Added\n"
     ]
    },
    {
     "name": "stderr",
     "output_type": "stream",
     "text": []
    },
    {
     "name": "stdout",
     "output_type": "stream",
     "text": [
      "Score:0.94090617\n",
      "Face saved\n"
     ]
    },
    {
     "name": "stderr",
     "output_type": "stream",
     "text": []
    },
    {
     "name": "stdout",
     "output_type": "stream",
     "text": [
      "Score:0.9197992\n",
      "Face saved\n",
      "Added\n"
     ]
    },
    {
     "name": "stderr",
     "output_type": "stream",
     "text": []
    },
    {
     "name": "stdout",
     "output_type": "stream",
     "text": [
      "Score:0.9451355\n",
      "Face saved\n"
     ]
    },
    {
     "name": "stderr",
     "output_type": "stream",
     "text": []
    },
    {
     "name": "stdout",
     "output_type": "stream",
     "text": [
      "Score:0.9395193\n",
      "Face saved\n"
     ]
    },
    {
     "name": "stderr",
     "output_type": "stream",
     "text": []
    },
    {
     "name": "stdout",
     "output_type": "stream",
     "text": [
      "Score:0.9335929\n",
      "Face saved\n"
     ]
    },
    {
     "name": "stderr",
     "output_type": "stream",
     "text": []
    },
    {
     "name": "stdout",
     "output_type": "stream",
     "text": [
      "Score:0.95129067\n",
      "Face saved\n"
     ]
    },
    {
     "name": "stderr",
     "output_type": "stream",
     "text": []
    },
    {
     "name": "stdout",
     "output_type": "stream",
     "text": [
      "Score:0.92062426\n",
      "Face saved\n",
      "Added\n"
     ]
    },
    {
     "name": "stderr",
     "output_type": "stream",
     "text": [
      "Processing face: 100%|██████████| 15/15 [00:02<00:00,  6.79it/s]\n",
      "Processing file:   2%|▏         | 22/1312 [05:08<5:23:49, 15.06s/it]"
     ]
    },
    {
     "name": "stdout",
     "output_type": "stream",
     "text": [
      "Score:0.93701196\n",
      "Face saved\n"
     ]
    },
    {
     "name": "stderr",
     "output_type": "stream",
     "text": []
    },
    {
     "name": "stdout",
     "output_type": "stream",
     "text": [
      "Score:0.92230296\n",
      "Face saved\n",
      "Added\n"
     ]
    },
    {
     "name": "stderr",
     "output_type": "stream",
     "text": []
    },
    {
     "name": "stdout",
     "output_type": "stream",
     "text": [
      "Score:0.9182162\n",
      "Face saved\n",
      "Added\n"
     ]
    },
    {
     "name": "stderr",
     "output_type": "stream",
     "text": []
    },
    {
     "name": "stdout",
     "output_type": "stream",
     "text": [
      "Score:0.9346794\n",
      "Face saved\n"
     ]
    },
    {
     "name": "stderr",
     "output_type": "stream",
     "text": []
    },
    {
     "name": "stdout",
     "output_type": "stream",
     "text": [
      "Score:0.93377084\n",
      "Face saved\n"
     ]
    },
    {
     "name": "stderr",
     "output_type": "stream",
     "text": []
    },
    {
     "name": "stdout",
     "output_type": "stream",
     "text": [
      "Score:0.91331255\n",
      "Face saved\n",
      "Added\n"
     ]
    },
    {
     "name": "stderr",
     "output_type": "stream",
     "text": []
    },
    {
     "name": "stdout",
     "output_type": "stream",
     "text": [
      "Score:0.92269266\n",
      "Face saved\n",
      "Added\n"
     ]
    },
    {
     "name": "stderr",
     "output_type": "stream",
     "text": []
    },
    {
     "name": "stdout",
     "output_type": "stream",
     "text": [
      "Score:0.9197874\n",
      "Face saved\n",
      "Added\n"
     ]
    },
    {
     "name": "stderr",
     "output_type": "stream",
     "text": []
    },
    {
     "name": "stdout",
     "output_type": "stream",
     "text": [
      "Score:0.9414265\n",
      "Face saved\n"
     ]
    },
    {
     "name": "stderr",
     "output_type": "stream",
     "text": []
    },
    {
     "name": "stdout",
     "output_type": "stream",
     "text": [
      "Score:0.95608044\n",
      "Face saved\n"
     ]
    },
    {
     "name": "stderr",
     "output_type": "stream",
     "text": []
    },
    {
     "name": "stdout",
     "output_type": "stream",
     "text": [
      "Score:0.9131234\n",
      "Face saved\n",
      "Added\n"
     ]
    },
    {
     "name": "stderr",
     "output_type": "stream",
     "text": []
    },
    {
     "name": "stdout",
     "output_type": "stream",
     "text": [
      "Score:0.9146699\n",
      "Face saved\n",
      "Added\n"
     ]
    },
    {
     "name": "stderr",
     "output_type": "stream",
     "text": [
      "Processing face: 100%|██████████| 17/17 [00:03<00:00,  4.97it/s]\n",
      "Processing file:   2%|▏         | 23/1312 [05:25<5:34:53, 15.59s/it]"
     ]
    },
    {
     "name": "stdout",
     "output_type": "stream",
     "text": [
      "Score:0.9032585\n",
      "Face saved\n",
      "Added\n"
     ]
    },
    {
     "name": "stderr",
     "output_type": "stream",
     "text": [
      "Processing face: 100%|██████████| 1/1 [00:00<00:00,  3.08it/s]\n",
      "Processing file:   2%|▏         | 24/1312 [05:39<5:21:11, 14.96s/it]"
     ]
    },
    {
     "name": "stdout",
     "output_type": "stream",
     "text": [
      "Score:0.94307685\n",
      "Face saved\n"
     ]
    },
    {
     "name": "stderr",
     "output_type": "stream",
     "text": []
    },
    {
     "name": "stdout",
     "output_type": "stream",
     "text": [
      "Score:0.9130162\n",
      "Face saved\n",
      "Added\n"
     ]
    },
    {
     "name": "stderr",
     "output_type": "stream",
     "text": []
    },
    {
     "name": "stdout",
     "output_type": "stream",
     "text": [
      "Score:0.9174044\n",
      "Face saved\n",
      "Added\n"
     ]
    },
    {
     "name": "stderr",
     "output_type": "stream",
     "text": []
    },
    {
     "name": "stdout",
     "output_type": "stream",
     "text": [
      "Score:0.94227135\n",
      "Face saved\n"
     ]
    },
    {
     "name": "stderr",
     "output_type": "stream",
     "text": [
      "Processing face: 100%|██████████| 5/5 [00:01<00:00,  3.76it/s]\n",
      "Processing file:   2%|▏         | 25/1312 [05:54<5:21:30, 14.99s/it]"
     ]
    },
    {
     "name": "stdout",
     "output_type": "stream",
     "text": [
      "Score:0.92266685\n",
      "Face saved\n",
      "Added\n"
     ]
    },
    {
     "name": "stderr",
     "output_type": "stream",
     "text": [
      "Processing face: 100%|██████████| 2/2 [00:00<00:00,  4.17it/s]\n",
      "Processing file:   2%|▏         | 26/1312 [06:08<5:16:55, 14.79s/it]"
     ]
    },
    {
     "name": "stdout",
     "output_type": "stream",
     "text": [
      "Score:0.94123316\n",
      "Face saved\n"
     ]
    },
    {
     "name": "stderr",
     "output_type": "stream",
     "text": [
      "\n"
     ]
    },
    {
     "name": "stdout",
     "output_type": "stream",
     "text": [
      "Score:0.9438491\n",
      "Face saved\n"
     ]
    },
    {
     "name": "stderr",
     "output_type": "stream",
     "text": [
      "Processing face: 100%|██████████| 3/3 [00:00<00:00,  3.26it/s]\u001b[A\n",
      "Processing file:   2%|▏         | 27/1312 [06:22<5:13:14, 14.63s/it]"
     ]
    },
    {
     "name": "stdout",
     "output_type": "stream",
     "text": [
      "Score:0.923865\n",
      "Face saved\n",
      "Added\n"
     ]
    },
    {
     "name": "stderr",
     "output_type": "stream",
     "text": [
      "Processing face: 100%|██████████| 2/2 [00:00<00:00,  3.40it/s]\n",
      "Processing file:   2%|▏         | 28/1312 [06:36<5:09:50, 14.48s/it]"
     ]
    },
    {
     "name": "stdout",
     "output_type": "stream",
     "text": [
      "Score:0.9334862\n",
      "Face saved\n"
     ]
    },
    {
     "name": "stderr",
     "output_type": "stream",
     "text": []
    },
    {
     "name": "stdout",
     "output_type": "stream",
     "text": [
      "Score:0.9363141\n",
      "Face saved\n"
     ]
    },
    {
     "name": "stderr",
     "output_type": "stream",
     "text": []
    },
    {
     "name": "stdout",
     "output_type": "stream",
     "text": [
      "Score:0.9295115\n",
      "Face saved\n",
      "Added\n"
     ]
    },
    {
     "name": "stderr",
     "output_type": "stream",
     "text": []
    },
    {
     "name": "stdout",
     "output_type": "stream",
     "text": [
      "Score:0.9338888\n",
      "Face saved\n"
     ]
    },
    {
     "name": "stderr",
     "output_type": "stream",
     "text": []
    },
    {
     "name": "stdout",
     "output_type": "stream",
     "text": [
      "Score:0.9357229\n",
      "Face saved\n"
     ]
    },
    {
     "name": "stderr",
     "output_type": "stream",
     "text": []
    },
    {
     "name": "stdout",
     "output_type": "stream",
     "text": [
      "Score:0.91838527\n",
      "Face saved\n",
      "Added\n"
     ]
    },
    {
     "name": "stderr",
     "output_type": "stream",
     "text": [
      "Processing face: 100%|██████████| 7/7 [00:01<00:00,  4.07it/s]\n",
      "Processing file:   2%|▏         | 29/1312 [06:52<5:15:25, 14.75s/it]"
     ]
    },
    {
     "name": "stdout",
     "output_type": "stream",
     "text": [
      "Score:0.9289815\n",
      "Face saved\n",
      "Added\n"
     ]
    },
    {
     "name": "stderr",
     "output_type": "stream",
     "text": [
      "Processing face: 100%|██████████| 3/3 [00:00<00:00, 22.44it/s]\n",
      "Processing face: 100%|██████████| 3/3 [00:00<00:00,  6.90it/s]5s/it]\n",
      "Processing file:   2%|▏         | 31/1312 [07:20<5:08:19, 14.44s/it]"
     ]
    },
    {
     "name": "stdout",
     "output_type": "stream",
     "text": [
      "Score:0.926659\n",
      "Face saved\n",
      "Added\n"
     ]
    },
    {
     "name": "stderr",
     "output_type": "stream",
     "text": [
      "Processing face: 100%|██████████| 1/1 [00:00<00:00,  2.24it/s]\n",
      "Processing file:   2%|▏         | 32/1312 [07:34<5:03:36, 14.23s/it]"
     ]
    },
    {
     "name": "stdout",
     "output_type": "stream",
     "text": [
      "Score:0.9068241\n",
      "Face saved\n",
      "Added\n"
     ]
    },
    {
     "name": "stderr",
     "output_type": "stream",
     "text": []
    },
    {
     "name": "stdout",
     "output_type": "stream",
     "text": [
      "Score:0.91189486\n",
      "Face saved\n",
      "Added\n"
     ]
    },
    {
     "name": "stderr",
     "output_type": "stream",
     "text": [
      "Processing face: 100%|██████████| 2/2 [00:00<00:00,  2.95it/s]\n",
      "Processing file:   3%|▎         | 33/1312 [07:47<5:00:36, 14.10s/it]"
     ]
    },
    {
     "name": "stdout",
     "output_type": "stream",
     "text": [
      "Score:0.9812707\n",
      "Face saved\n"
     ]
    },
    {
     "name": "stderr",
     "output_type": "stream",
     "text": [
      "Processing face: 100%|██████████| 2/2 [00:00<00:00,  2.20it/s]\n",
      "Processing file:   3%|▎         | 34/1312 [08:02<5:01:20, 14.15s/it]"
     ]
    },
    {
     "name": "stdout",
     "output_type": "stream",
     "text": [
      "Score:0.9737136\n",
      "Face saved\n"
     ]
    },
    {
     "name": "stderr",
     "output_type": "stream",
     "text": []
    },
    {
     "name": "stdout",
     "output_type": "stream",
     "text": [
      "Score:0.9459672\n",
      "Face saved\n"
     ]
    },
    {
     "name": "stderr",
     "output_type": "stream",
     "text": []
    },
    {
     "name": "stdout",
     "output_type": "stream",
     "text": [
      "Score:0.9323122\n",
      "Face saved\n"
     ]
    },
    {
     "name": "stderr",
     "output_type": "stream",
     "text": []
    },
    {
     "name": "stdout",
     "output_type": "stream",
     "text": [
      "Score:0.94738215\n",
      "Face saved\n"
     ]
    },
    {
     "name": "stderr",
     "output_type": "stream",
     "text": []
    },
    {
     "name": "stdout",
     "output_type": "stream",
     "text": [
      "Score:0.91231596\n",
      "Face saved\n",
      "Added\n"
     ]
    },
    {
     "name": "stderr",
     "output_type": "stream",
     "text": []
    },
    {
     "name": "stdout",
     "output_type": "stream",
     "text": [
      "Score:0.9199224\n",
      "Face saved\n",
      "Added\n"
     ]
    },
    {
     "name": "stderr",
     "output_type": "stream",
     "text": []
    },
    {
     "name": "stdout",
     "output_type": "stream",
     "text": [
      "Score:0.9741631\n",
      "Face saved\n"
     ]
    },
    {
     "name": "stderr",
     "output_type": "stream",
     "text": []
    },
    {
     "name": "stdout",
     "output_type": "stream",
     "text": [
      "Score:0.91739595\n",
      "Face saved\n",
      "Added\n"
     ]
    },
    {
     "name": "stderr",
     "output_type": "stream",
     "text": []
    },
    {
     "name": "stdout",
     "output_type": "stream",
     "text": [
      "Score:0.9049807\n",
      "Face saved\n",
      "Added\n"
     ]
    },
    {
     "name": "stderr",
     "output_type": "stream",
     "text": []
    },
    {
     "name": "stdout",
     "output_type": "stream",
     "text": [
      "Score:0.89136845\n",
      "Face saved\n",
      "Added\n"
     ]
    },
    {
     "name": "stderr",
     "output_type": "stream",
     "text": []
    },
    {
     "name": "stdout",
     "output_type": "stream",
     "text": [
      "Score:0.9454721\n",
      "Face saved\n"
     ]
    },
    {
     "name": "stderr",
     "output_type": "stream",
     "text": []
    },
    {
     "name": "stdout",
     "output_type": "stream",
     "text": [
      "Score:0.9221777\n",
      "Face saved\n",
      "Added\n"
     ]
    },
    {
     "name": "stderr",
     "output_type": "stream",
     "text": [
      "Processing face: 100%|██████████| 14/14 [00:03<00:00,  4.34it/s]\n",
      "Processing file:   3%|▎         | 35/1312 [08:18<5:15:34, 14.83s/it]"
     ]
    },
    {
     "name": "stdout",
     "output_type": "stream",
     "text": [
      "Score:0.90255165\n",
      "Face saved\n",
      "Added\n"
     ]
    },
    {
     "name": "stderr",
     "output_type": "stream",
     "text": [
      "\n"
     ]
    },
    {
     "name": "stdout",
     "output_type": "stream",
     "text": [
      "Score:0.9202908\n",
      "Face saved\n",
      "Added\n"
     ]
    },
    {
     "name": "stderr",
     "output_type": "stream",
     "text": [
      "Processing face: 100%|██████████| 3/3 [00:01<00:00,  2.90it/s]\u001b[A\n",
      "Processing file:   3%|▎         | 36/1312 [08:32<5:11:31, 14.65s/it]"
     ]
    },
    {
     "name": "stdout",
     "output_type": "stream",
     "text": [
      "Score:0.94541407\n",
      "Face saved\n"
     ]
    },
    {
     "name": "stderr",
     "output_type": "stream",
     "text": [
      "Processing face: 100%|██████████| 3/3 [00:00<00:00,  6.15it/s]\n",
      "Processing file:   3%|▎         | 37/1312 [08:46<5:05:34, 14.38s/it]"
     ]
    },
    {
     "name": "stdout",
     "output_type": "stream",
     "text": [
      "Score:0.93215233\n",
      "Face saved\n"
     ]
    },
    {
     "name": "stderr",
     "output_type": "stream",
     "text": [
      "Processing face: 100%|██████████| 1/1 [00:00<00:00,  2.79it/s]\n",
      "Processing file:   3%|▎         | 38/1312 [09:00<5:00:31, 14.15s/it]"
     ]
    },
    {
     "name": "stdout",
     "output_type": "stream",
     "text": [
      "Score:0.92391145\n",
      "Face saved\n",
      "Added\n"
     ]
    },
    {
     "name": "stderr",
     "output_type": "stream",
     "text": [
      "Processing face: 100%|██████████| 1/1 [00:00<00:00, 24.98it/s]1s/it]\n",
      "Processing file:   3%|▎         | 40/1312 [09:26<4:50:45, 13.71s/it]"
     ]
    },
    {
     "name": "stdout",
     "output_type": "stream",
     "text": [
      "Score:0.9093364\n",
      "Face saved\n",
      "Added\n"
     ]
    },
    {
     "name": "stderr",
     "output_type": "stream",
     "text": []
    },
    {
     "name": "stdout",
     "output_type": "stream",
     "text": [
      "Score:0.9195914\n",
      "Face saved\n",
      "Added\n"
     ]
    },
    {
     "name": "stderr",
     "output_type": "stream",
     "text": [
      "Processing face: 100%|██████████| 4/4 [00:01<00:00,  2.87it/s]\n",
      "Processing file:   3%|▎         | 41/1312 [09:41<4:58:09, 14.08s/it]"
     ]
    },
    {
     "name": "stdout",
     "output_type": "stream",
     "text": [
      "Score:0.9135891\n",
      "Face saved\n",
      "Added\n"
     ]
    },
    {
     "name": "stderr",
     "output_type": "stream",
     "text": []
    },
    {
     "name": "stdout",
     "output_type": "stream",
     "text": [
      "Score:0.99428844\n",
      "Face saved\n"
     ]
    },
    {
     "name": "stderr",
     "output_type": "stream",
     "text": []
    },
    {
     "name": "stdout",
     "output_type": "stream",
     "text": [
      "Score:0.98786837\n",
      "Face saved\n"
     ]
    },
    {
     "name": "stderr",
     "output_type": "stream",
     "text": []
    },
    {
     "name": "stdout",
     "output_type": "stream",
     "text": [
      "Score:0.9749165\n",
      "Face saved\n"
     ]
    },
    {
     "name": "stderr",
     "output_type": "stream",
     "text": [
      "Processing face: 100%|██████████| 5/5 [00:01<00:00,  3.05it/s]\n",
      "Processing file:   3%|▎         | 42/1312 [09:56<5:03:40, 14.35s/it]"
     ]
    },
    {
     "name": "stdout",
     "output_type": "stream",
     "text": [
      "Score:0.91005504\n",
      "Face saved\n",
      "Added\n"
     ]
    },
    {
     "name": "stderr",
     "output_type": "stream",
     "text": []
    },
    {
     "name": "stdout",
     "output_type": "stream",
     "text": [
      "Score:0.9689983\n",
      "Face saved\n"
     ]
    },
    {
     "name": "stderr",
     "output_type": "stream",
     "text": []
    },
    {
     "name": "stdout",
     "output_type": "stream",
     "text": [
      "Score:0.9281713\n",
      "Face saved\n",
      "Added\n"
     ]
    },
    {
     "name": "stderr",
     "output_type": "stream",
     "text": []
    },
    {
     "name": "stdout",
     "output_type": "stream",
     "text": [
      "Score:0.9635101\n",
      "Face saved\n"
     ]
    },
    {
     "name": "stderr",
     "output_type": "stream",
     "text": []
    },
    {
     "name": "stdout",
     "output_type": "stream",
     "text": [
      "Score:0.9244468\n",
      "Face saved\n",
      "Added\n"
     ]
    },
    {
     "name": "stderr",
     "output_type": "stream",
     "text": [
      "Processing face: 100%|██████████| 6/6 [00:01<00:00,  3.14it/s]\n",
      "Processing file:   3%|▎         | 43/1312 [10:11<5:08:32, 14.59s/it]"
     ]
    },
    {
     "name": "stdout",
     "output_type": "stream",
     "text": [
      "Score:0.92700785\n",
      "Face saved\n",
      "Added\n"
     ]
    },
    {
     "name": "stderr",
     "output_type": "stream",
     "text": []
    },
    {
     "name": "stdout",
     "output_type": "stream",
     "text": [
      "Score:0.96763414\n",
      "Face saved\n"
     ]
    },
    {
     "name": "stderr",
     "output_type": "stream",
     "text": []
    },
    {
     "name": "stdout",
     "output_type": "stream",
     "text": [
      "Score:0.9990955\n",
      "Face saved\n"
     ]
    },
    {
     "name": "stderr",
     "output_type": "stream",
     "text": []
    },
    {
     "name": "stdout",
     "output_type": "stream",
     "text": [
      "Score:0.9713471\n",
      "Face saved\n"
     ]
    },
    {
     "name": "stderr",
     "output_type": "stream",
     "text": []
    },
    {
     "name": "stdout",
     "output_type": "stream",
     "text": [
      "Score:0.99440044\n",
      "Face saved\n"
     ]
    },
    {
     "name": "stderr",
     "output_type": "stream",
     "text": [
      "Processing face: 100%|██████████| 6/6 [00:01<00:00,  3.26it/s]\n",
      "Processing file:   3%|▎         | 44/1312 [10:27<5:13:14, 14.82s/it]"
     ]
    },
    {
     "name": "stdout",
     "output_type": "stream",
     "text": [
      "Score:0.9934\n",
      "Face saved\n"
     ]
    },
    {
     "name": "stderr",
     "output_type": "stream",
     "text": []
    },
    {
     "name": "stdout",
     "output_type": "stream",
     "text": [
      "Score:0.9262748\n",
      "Face saved\n",
      "Added\n"
     ]
    },
    {
     "name": "stderr",
     "output_type": "stream",
     "text": []
    },
    {
     "name": "stdout",
     "output_type": "stream",
     "text": [
      "Score:0.9905312\n",
      "Face saved\n"
     ]
    },
    {
     "name": "stderr",
     "output_type": "stream",
     "text": []
    },
    {
     "name": "stdout",
     "output_type": "stream",
     "text": [
      "Score:0.95527005\n",
      "Face saved\n"
     ]
    },
    {
     "name": "stderr",
     "output_type": "stream",
     "text": []
    },
    {
     "name": "stdout",
     "output_type": "stream",
     "text": [
      "Score:0.9816799\n",
      "Face saved\n"
     ]
    },
    {
     "name": "stderr",
     "output_type": "stream",
     "text": []
    },
    {
     "name": "stdout",
     "output_type": "stream",
     "text": [
      "Score:0.9794691\n",
      "Face saved\n"
     ]
    },
    {
     "name": "stderr",
     "output_type": "stream",
     "text": []
    },
    {
     "name": "stdout",
     "output_type": "stream",
     "text": [
      "Score:0.93399346\n",
      "Face saved\n"
     ]
    },
    {
     "name": "stderr",
     "output_type": "stream",
     "text": []
    },
    {
     "name": "stdout",
     "output_type": "stream",
     "text": [
      "Score:0.95453435\n",
      "Face saved\n"
     ]
    },
    {
     "name": "stderr",
     "output_type": "stream",
     "text": []
    },
    {
     "name": "stdout",
     "output_type": "stream",
     "text": [
      "Score:0.9547584\n",
      "Face saved\n"
     ]
    },
    {
     "name": "stderr",
     "output_type": "stream",
     "text": []
    },
    {
     "name": "stdout",
     "output_type": "stream",
     "text": [
      "Score:0.97003317\n",
      "Face saved\n"
     ]
    },
    {
     "name": "stderr",
     "output_type": "stream",
     "text": [
      "Processing face: 100%|██████████| 10/10 [00:02<00:00,  3.60it/s]\n",
      "Processing file:   3%|▎         | 45/1312 [10:43<5:20:49, 15.19s/it]"
     ]
    },
    {
     "name": "stdout",
     "output_type": "stream",
     "text": [
      "Score:0.94916517\n",
      "Face saved\n"
     ]
    },
    {
     "name": "stderr",
     "output_type": "stream",
     "text": []
    },
    {
     "name": "stdout",
     "output_type": "stream",
     "text": [
      "Score:0.99335945\n",
      "Face saved\n"
     ]
    },
    {
     "name": "stderr",
     "output_type": "stream",
     "text": []
    },
    {
     "name": "stdout",
     "output_type": "stream",
     "text": [
      "Score:0.9877043\n",
      "Face saved\n"
     ]
    },
    {
     "name": "stderr",
     "output_type": "stream",
     "text": []
    },
    {
     "name": "stdout",
     "output_type": "stream",
     "text": [
      "Score:0.95693517\n",
      "Face saved\n"
     ]
    },
    {
     "name": "stderr",
     "output_type": "stream",
     "text": []
    },
    {
     "name": "stdout",
     "output_type": "stream",
     "text": [
      "Score:0.9344619\n",
      "Face saved\n"
     ]
    },
    {
     "name": "stderr",
     "output_type": "stream",
     "text": []
    },
    {
     "name": "stdout",
     "output_type": "stream",
     "text": [
      "Score:0.9707469\n",
      "Face saved\n"
     ]
    },
    {
     "name": "stderr",
     "output_type": "stream",
     "text": []
    },
    {
     "name": "stdout",
     "output_type": "stream",
     "text": [
      "Score:0.9718563\n",
      "Face saved\n"
     ]
    },
    {
     "name": "stderr",
     "output_type": "stream",
     "text": []
    },
    {
     "name": "stdout",
     "output_type": "stream",
     "text": [
      "Score:0.96384823\n",
      "Face saved\n"
     ]
    },
    {
     "name": "stderr",
     "output_type": "stream",
     "text": []
    },
    {
     "name": "stdout",
     "output_type": "stream",
     "text": [
      "Score:0.9740807\n",
      "Face saved\n"
     ]
    },
    {
     "name": "stderr",
     "output_type": "stream",
     "text": [
      "Processing face: 100%|██████████| 11/11 [00:02<00:00,  4.24it/s]\n",
      "Processing file:   4%|▎         | 46/1312 [10:59<5:24:38, 15.39s/it]"
     ]
    },
    {
     "name": "stdout",
     "output_type": "stream",
     "text": [
      "Score:0.9735122\n",
      "Face saved\n"
     ]
    },
    {
     "name": "stderr",
     "output_type": "stream",
     "text": []
    },
    {
     "name": "stdout",
     "output_type": "stream",
     "text": [
      "Score:0.989747\n",
      "Face saved\n"
     ]
    },
    {
     "name": "stderr",
     "output_type": "stream",
     "text": []
    },
    {
     "name": "stdout",
     "output_type": "stream",
     "text": [
      "Score:0.9695982\n",
      "Face saved\n"
     ]
    },
    {
     "name": "stderr",
     "output_type": "stream",
     "text": []
    },
    {
     "name": "stdout",
     "output_type": "stream",
     "text": [
      "Score:0.98811054\n",
      "Face saved\n"
     ]
    },
    {
     "name": "stderr",
     "output_type": "stream",
     "text": []
    },
    {
     "name": "stdout",
     "output_type": "stream",
     "text": [
      "Score:0.9352889\n",
      "Face saved\n"
     ]
    },
    {
     "name": "stderr",
     "output_type": "stream",
     "text": []
    },
    {
     "name": "stdout",
     "output_type": "stream",
     "text": [
      "Score:0.98362947\n",
      "Face saved\n"
     ]
    },
    {
     "name": "stderr",
     "output_type": "stream",
     "text": []
    },
    {
     "name": "stdout",
     "output_type": "stream",
     "text": [
      "Score:0.9663968\n",
      "Face saved\n"
     ]
    },
    {
     "name": "stderr",
     "output_type": "stream",
     "text": []
    },
    {
     "name": "stdout",
     "output_type": "stream",
     "text": [
      "Score:0.9643512\n",
      "Face saved\n"
     ]
    },
    {
     "name": "stderr",
     "output_type": "stream",
     "text": []
    },
    {
     "name": "stdout",
     "output_type": "stream",
     "text": [
      "Score:0.96197414\n",
      "Face saved\n"
     ]
    },
    {
     "name": "stderr",
     "output_type": "stream",
     "text": [
      "Processing face: 100%|██████████| 12/12 [00:02<00:00,  4.72it/s]\n",
      "Processing file:   4%|▎         | 47/1312 [11:14<5:27:41, 15.54s/it]"
     ]
    },
    {
     "name": "stdout",
     "output_type": "stream",
     "text": [
      "Score:0.96932924\n",
      "Face saved\n"
     ]
    },
    {
     "name": "stderr",
     "output_type": "stream",
     "text": []
    },
    {
     "name": "stdout",
     "output_type": "stream",
     "text": [
      "Score:0.91918063\n",
      "Face saved\n",
      "Added\n"
     ]
    },
    {
     "name": "stderr",
     "output_type": "stream",
     "text": [
      "Processing face: 100%|██████████| 2/2 [00:00<00:00,  3.11it/s]\n",
      "Processing file:   4%|▎         | 48/1312 [11:28<5:16:37, 15.03s/it]"
     ]
    },
    {
     "name": "stdout",
     "output_type": "stream",
     "text": [
      "Score:0.92118746\n",
      "Face saved\n",
      "Added\n"
     ]
    },
    {
     "name": "stderr",
     "output_type": "stream",
     "text": [
      "Processing face: 100%|██████████| 1/1 [00:00<00:00,  2.53it/s]\n",
      "Processing file:   4%|▎         | 49/1312 [11:42<5:07:24, 14.60s/it]"
     ]
    },
    {
     "name": "stdout",
     "output_type": "stream",
     "text": [
      "Score:0.9289272\n",
      "Face saved\n",
      "Added\n"
     ]
    },
    {
     "name": "stderr",
     "output_type": "stream",
     "text": [
      "Processing face: 100%|██████████| 1/1 [00:00<00:00,  1.70it/s]\n",
      "Processing file:   4%|▍         | 50/1312 [11:56<5:01:36, 14.34s/it]"
     ]
    },
    {
     "name": "stdout",
     "output_type": "stream",
     "text": [
      "Score:0.945534\n",
      "Face saved\n"
     ]
    },
    {
     "name": "stderr",
     "output_type": "stream",
     "text": [
      "Processing face: 100%|██████████| 2/2 [00:00<00:00,  3.48it/s]\n",
      "Processing file:   4%|▍         | 51/1312 [12:10<5:00:37, 14.30s/it]"
     ]
    },
    {
     "name": "stdout",
     "output_type": "stream",
     "text": [
      "Score:0.91315484\n",
      "Face saved\n",
      "Added\n"
     ]
    },
    {
     "name": "stderr",
     "output_type": "stream",
     "text": []
    },
    {
     "name": "stdout",
     "output_type": "stream",
     "text": [
      "Score:0.90727365\n",
      "Face saved\n",
      "Added\n"
     ]
    },
    {
     "name": "stderr",
     "output_type": "stream",
     "text": []
    },
    {
     "name": "stdout",
     "output_type": "stream",
     "text": [
      "Score:0.9084298\n",
      "Face saved\n",
      "Added\n"
     ]
    },
    {
     "name": "stderr",
     "output_type": "stream",
     "text": []
    },
    {
     "name": "stdout",
     "output_type": "stream",
     "text": [
      "Score:0.9234067\n",
      "Face saved\n",
      "Added\n"
     ]
    },
    {
     "name": "stderr",
     "output_type": "stream",
     "text": []
    },
    {
     "name": "stdout",
     "output_type": "stream",
     "text": [
      "Score:0.91478384\n",
      "Face saved\n",
      "Added\n"
     ]
    },
    {
     "name": "stderr",
     "output_type": "stream",
     "text": [
      "Processing face: 100%|██████████| 6/6 [00:01<00:00,  4.11it/s]\n",
      "Processing file:   4%|▍         | 52/1312 [12:26<5:13:35, 14.93s/it]"
     ]
    },
    {
     "name": "stdout",
     "output_type": "stream",
     "text": [
      "Score:0.92329925\n",
      "Face saved\n",
      "Added\n"
     ]
    },
    {
     "name": "stderr",
     "output_type": "stream",
     "text": []
    },
    {
     "name": "stdout",
     "output_type": "stream",
     "text": [
      "Score:0.9687071\n",
      "Face saved\n"
     ]
    },
    {
     "name": "stderr",
     "output_type": "stream",
     "text": []
    },
    {
     "name": "stdout",
     "output_type": "stream",
     "text": [
      "Score:0.946138\n",
      "Face saved\n"
     ]
    },
    {
     "name": "stderr",
     "output_type": "stream",
     "text": [
      "Processing face: 100%|██████████| 6/6 [00:01<00:00,  5.72it/s]\n",
      "Processing file:   4%|▍         | 53/1312 [12:41<5:09:42, 14.76s/it]"
     ]
    },
    {
     "name": "stdout",
     "output_type": "stream",
     "text": [
      "Score:0.92237234\n",
      "Face saved\n",
      "Added\n"
     ]
    },
    {
     "name": "stderr",
     "output_type": "stream",
     "text": []
    },
    {
     "name": "stdout",
     "output_type": "stream",
     "text": [
      "Score:0.9132881\n",
      "Face saved\n",
      "Added\n"
     ]
    },
    {
     "name": "stderr",
     "output_type": "stream",
     "text": []
    },
    {
     "name": "stdout",
     "output_type": "stream",
     "text": [
      "Score:0.9751638\n",
      "Face saved\n"
     ]
    },
    {
     "name": "stderr",
     "output_type": "stream",
     "text": [
      "Processing face: 100%|██████████| 5/5 [00:01<00:00,  4.82it/s]\n",
      "Processing file:   4%|▍         | 54/1312 [12:55<5:07:46, 14.68s/it]"
     ]
    },
    {
     "name": "stdout",
     "output_type": "stream",
     "text": [
      "Score:0.971226\n",
      "Face saved\n"
     ]
    },
    {
     "name": "stderr",
     "output_type": "stream",
     "text": []
    },
    {
     "name": "stdout",
     "output_type": "stream",
     "text": [
      "Score:0.94651747\n",
      "Face saved\n"
     ]
    },
    {
     "name": "stderr",
     "output_type": "stream",
     "text": []
    },
    {
     "name": "stdout",
     "output_type": "stream",
     "text": [
      "Score:0.9262195\n",
      "Face saved\n",
      "Added\n"
     ]
    },
    {
     "name": "stderr",
     "output_type": "stream",
     "text": []
    },
    {
     "name": "stdout",
     "output_type": "stream",
     "text": [
      "Score:0.96867377\n",
      "Face saved\n"
     ]
    },
    {
     "name": "stderr",
     "output_type": "stream",
     "text": [
      "Processing face: 100%|██████████| 6/6 [00:01<00:00,  5.03it/s]\n",
      "Processing file:   4%|▍         | 55/1312 [13:10<5:07:50, 14.69s/it]"
     ]
    },
    {
     "name": "stdout",
     "output_type": "stream",
     "text": [
      "Score:0.9624469\n",
      "Face saved\n"
     ]
    },
    {
     "name": "stderr",
     "output_type": "stream",
     "text": [
      "Processing face: 100%|██████████| 2/2 [00:00<00:00,  4.96it/s]\n",
      "Processing file:   4%|▍         | 56/1312 [13:24<5:03:15, 14.49s/it]"
     ]
    },
    {
     "name": "stdout",
     "output_type": "stream",
     "text": [
      "Score:0.92577887\n",
      "Face saved\n",
      "Added\n"
     ]
    },
    {
     "name": "stderr",
     "output_type": "stream",
     "text": [
      "Processing file:   4%|▍         | 57/1312 [13:38<5:00:12, 14.35s/it]"
     ]
    },
    {
     "name": "stdout",
     "output_type": "stream",
     "text": [
      "Score:0.9261168\n",
      "Face saved\n",
      "Added\n"
     ]
    },
    {
     "name": "stderr",
     "output_type": "stream",
     "text": []
    },
    {
     "name": "stdout",
     "output_type": "stream",
     "text": [
      "Score:0.97882897\n",
      "Face saved\n"
     ]
    },
    {
     "name": "stderr",
     "output_type": "stream",
     "text": []
    },
    {
     "name": "stdout",
     "output_type": "stream",
     "text": [
      "Score:0.9200292\n",
      "Face saved\n",
      "Added\n"
     ]
    },
    {
     "name": "stderr",
     "output_type": "stream",
     "text": [
      "Processing face: 100%|██████████| 5/5 [00:01<00:00,  3.06it/s]\n",
      "Processing file:   4%|▍         | 58/1312 [13:53<5:02:24, 14.47s/it]"
     ]
    },
    {
     "name": "stdout",
     "output_type": "stream",
     "text": [
      "Score:0.9205809\n",
      "Face saved\n",
      "Added\n"
     ]
    },
    {
     "name": "stderr",
     "output_type": "stream",
     "text": []
    },
    {
     "name": "stdout",
     "output_type": "stream",
     "text": [
      "Score:0.984262\n",
      "Face saved\n"
     ]
    },
    {
     "name": "stderr",
     "output_type": "stream",
     "text": []
    },
    {
     "name": "stdout",
     "output_type": "stream",
     "text": [
      "Score:0.98187196\n",
      "Face saved\n"
     ]
    },
    {
     "name": "stderr",
     "output_type": "stream",
     "text": []
    },
    {
     "name": "stdout",
     "output_type": "stream",
     "text": [
      "Score:0.9798441\n",
      "Face saved\n"
     ]
    },
    {
     "name": "stderr",
     "output_type": "stream",
     "text": [
      "Processing face: 100%|██████████| 6/6 [00:01<00:00,  3.26it/s]\n",
      "Processing file:   4%|▍         | 59/1312 [14:08<5:08:46, 14.79s/it]"
     ]
    },
    {
     "name": "stdout",
     "output_type": "stream",
     "text": [
      "Score:0.97293276\n",
      "Face saved\n"
     ]
    },
    {
     "name": "stderr",
     "output_type": "stream",
     "text": [
      "Processing face: 100%|██████████| 2/2 [00:00<00:00,  4.01it/s]\n",
      "Processing file:   5%|▍         | 60/1312 [14:23<5:07:08, 14.72s/it]"
     ]
    },
    {
     "name": "stdout",
     "output_type": "stream",
     "text": [
      "Score:0.9087075\n",
      "Face saved\n",
      "Added\n"
     ]
    }
   ],
   "source": [
    "\n",
    "process(paths)"
   ]
  }
 ],
 "metadata": {
  "kernelspec": {
   "display_name": "face",
   "language": "python",
   "name": "python3"
  },
  "language_info": {
   "codemirror_mode": {
    "name": "ipython",
    "version": 3
   },
   "file_extension": ".py",
   "mimetype": "text/x-python",
   "name": "python",
   "nbconvert_exporter": "python",
   "pygments_lexer": "ipython3",
   "version": "3.12.2"
  }
 },
 "nbformat": 4,
 "nbformat_minor": 2
}
